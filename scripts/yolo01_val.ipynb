{
 "cells": [
  {
   "cell_type": "code",
   "execution_count": 1,
   "metadata": {},
   "outputs": [],
   "source": [
    "# Validate YOLO model\n",
    "\n",
    "from ultralytics import YOLO"
   ]
  },
  {
   "cell_type": "code",
   "execution_count": null,
   "metadata": {},
   "outputs": [],
   "source": [
    "# in command line:\n",
    "\n",
    "#GROUND on GROUND\n",
    "    #cd oregon_critters$\n",
    "    #command: $yolo detect val model=/home/cara/oregon_critters/runs/detect/7_mc_ground_med/weights/best.pt save_json=True data=/home/cara/oregon_critters/dataset_ground.yaml \n",
    "    #copy and paste table\n",
    "        #saved locally: \n",
    "    #Saving runs/detect/val2/predictions.json...\n",
    "        #moved this to runs/detect/3_mc_ground/val/...\n",
    "        #compare e.g., confusion matrix to one from wandb\n",
    "\n",
    "#BOTH on GROUND\n",
    "    #cd oregon_critters/both\n",
    "    #command: $yolo detect val model=/home/cara/oregon_critters/both/runs/detect/5_mc_both/weights/best.pt save_json=True data=/home/cara/oregon_critters/both/dataset_ground_both.yaml \n",
    "    #copy and paste table\n",
    "    #Saving runs/detect/val2/predictions.json...\n",
    "        #moved this to both/runs/detect/5_mc_both/val_on_ground_val/...\n",
    "\n",
    "#TRAIL on TRAIL\n",
    "    #cd oregon_critters/trail\n",
    "    #command: $yolo detect val model=/home/cara/oregon_critters/trail/runs/detect/8_mc_trail_med/weights/best.pt save_json=True data=/home/cara/oregon_critters/trail/dataset_trail.yaml \n",
    "    #copy and paste table\n",
    "    #Saving runs/detect/val2/predictions.json...\n",
    "        #moved this to trail/runs/detect/4_mc_both/val_on_trail_val/...\n",
    "\n",
    "#BOTH on GROUND\n",
    "    #cd oregon_critters/trail\n",
    "    #command: $yolo detect val model=/home/cara/oregon_critters/both/runs/detect/5_mc_both/weights/best.pt save_json=True data=/home/cara/oregon_critters/trail/dataset_trail.yaml \n",
    "    #copy and paste table\n",
    "    #Saving runs/detect/val2/predictions.json...\n",
    "        #moved this to both/runs/detect/5_mc_both/val_on_ground_val/...\n",
    "\n",
    "#BOTH on BOTH\n",
    "    #cd oregon_critters/both\n",
    "    #command: $yolo detect val model=/home/cara/oregon_critters/both/runs/detect/5_mc_both/weights/best.pt save_json=True data=/home/cara/oregon_critters/both/dataset_both.yaml \n",
    "    #copy and paste table\n",
    "    #Saving runs/detect/val2/predictions.json...\n",
    "        #moved this to both/runs/detect/5_mc_both/val_on_ground_val/..."
   ]
  },
  {
   "cell_type": "code",
   "execution_count": null,
   "metadata": {},
   "outputs": [],
   "source": [
    "# Load model\n",
    "# model_ground = YOLO('/home/cara/oregon_critters/runs/detect/3_mc_ground/weights/best.pt')\n",
    "\n",
    "# # Validate the model\n",
    "# metrics = model_ground.val(data='/home/cara/oregon_critters/dataset_ground.yaml',\n",
    "#                            imgsz=640, save_json=True) \n",
    "# metrics.box.map    # map50-95\n",
    "# metrics.box.map50  # map50\n",
    "# metrics.box.map75  # map75\n",
    "# metrics.box.maps   # a list contains map50-95 of each category\n",
    "\n",
    "#still doesn't work here... do in command line (above)"
   ]
  },
  {
   "cell_type": "code",
   "execution_count": null,
   "metadata": {},
   "outputs": [],
   "source": []
  }
 ],
 "metadata": {
  "kernelspec": {
   "display_name": "cara_cv4e",
   "language": "python",
   "name": "python3"
  },
  "language_info": {
   "codemirror_mode": {
    "name": "ipython",
    "version": 3
   },
   "file_extension": ".py",
   "mimetype": "text/x-python",
   "name": "python",
   "nbconvert_exporter": "python",
   "pygments_lexer": "ipython3",
   "version": "3.9.17"
  },
  "orig_nbformat": 4
 },
 "nbformat": 4,
 "nbformat_minor": 2
}

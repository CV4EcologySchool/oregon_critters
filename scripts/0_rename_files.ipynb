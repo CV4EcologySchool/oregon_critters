{
 "cells": [
  {
   "cell_type": "code",
   "execution_count": 15,
   "metadata": {},
   "outputs": [],
   "source": [
    "# rename files to give them all unique filenames\n",
    "\n",
    "import os\n",
    "import pandas as pd\n",
    "import string\n",
    "\n",
    "# directory path\n",
    "parent_dir = r'/mnt/ssd-cluster/cara/data'\n",
    "\n",
    "#os.listdir(parent_dir)"
   ]
  },
  {
   "cell_type": "code",
   "execution_count": 2,
   "metadata": {},
   "outputs": [],
   "source": [
    "# define function to read all files\n",
    "def list_files_in_directory(directory):\n",
    "    file_paths = []\n",
    "\n",
    "    for item in os.listdir(directory):\n",
    "        item_path = os.path.join(directory, item)\n",
    "        \n",
    "        if os.path.isfile(item_path):\n",
    "            file_paths.append(item_path)\n",
    "        elif os.path.isdir(item_path):\n",
    "            file_paths.extend(list_files_in_directory(item_path))\n",
    "    \n",
    "    return file_paths\n",
    "\n",
    "# scan directory and save full paths to filenames\n",
    "directory_path = '/mnt/ssd-cluster/cara/data'\n",
    "file_paths = list_files_in_directory(directory_path)\n",
    "\n",
    "#for path in file_paths:\n",
    "#    print(path)\n"
   ]
  },
  {
   "cell_type": "code",
   "execution_count": 24,
   "metadata": {},
   "outputs": [
    {
     "name": "stdout",
     "output_type": "stream",
     "text": [
      "10511\n",
      "231\n"
     ]
    }
   ],
   "source": [
    "# filter out \".txt\" files\n",
    "file_paths = [path for path in file_paths if not path.endswith('.txt')]\n",
    "\n",
    "# extract filename and study/species combo but keep also full path\n",
    "names = []\n",
    "study_species_code_mapping = {}  #to store unique ID for study/species combo\n",
    "alphabet = string.ascii_lowercase  # All uppercase letters\n",
    "\n",
    "for path in file_paths:\n",
    "    file_name = os.path.basename(path)\n",
    "    parts = path.split('/')\n",
    "    project_species = '/'.join(parts[5:7])  # Extract \"project/species\" part\n",
    "\n",
    "    if project_species not in study_species_code_mapping:\n",
    "        if len(study_species_code_mapping) < len(alphabet) * len(alphabet):\n",
    "            first_letter = alphabet[len(study_species_code_mapping) // len(alphabet)]\n",
    "            second_letter = alphabet[len(study_species_code_mapping) % len(alphabet)]\n",
    "            code = f\"{first_letter}{second_letter}\"\n",
    "            study_species_code_mapping[project_species] = code\n",
    "        else:\n",
    "            print(\"Not enough two-letter combinations for all study/species values.\")\n",
    "    \n",
    "    file_name_without_extension = os.path.splitext(file_name)[0]  # Remove \".JPG\" extension\n",
    "    combined_filename = f\"{file_name_without_extension}_{study_species_code_mapping[project_species]}.JPG\"\n",
    "\n",
    "    names.append({'full_path': path, 'filename': file_name, 'project_species': project_species, \n",
    "                  'code': study_species_code_mapping[project_species],\n",
    "                  'new_filename': combined_filename})\n",
    "\n",
    "# create a dataframe\n",
    "names_table = pd.DataFrame(names)\n",
    "\n",
    "print(len(names_table))\n",
    "print(len(study_species_code_mapping))\n",
    "names_table.head()\n",
    "\n",
    "#save\n",
    "names_table.to_csv('/mnt/ssd-cluster/cara/filename_key.csv')\n",
    "names_table.to_csv('/home/cara/oregon_critters/filename_key.csv')\n",
    "\n"
   ]
  },
  {
   "cell_type": "code",
   "execution_count": 25,
   "metadata": {},
   "outputs": [
    {
     "name": "stdout",
     "output_type": "stream",
     "text": [
      "All combined filenames are unique.\n"
     ]
    }
   ],
   "source": [
    "#are they all unique?\n",
    "\n",
    "unique_combined_filenames = names_table['new_filename'].nunique()\n",
    "total_rows = names_table.shape[0]\n",
    "\n",
    "if unique_combined_filenames == total_rows:\n",
    "    print(\"All combined filenames are unique.\")\n",
    "else:\n",
    "    print(\"There are duplicate combined filenames.\")"
   ]
  },
  {
   "cell_type": "code",
   "execution_count": null,
   "metadata": {},
   "outputs": [],
   "source": [
    "# rename files\n",
    "\n",
    "## TEST FIRST"
   ]
  }
 ],
 "metadata": {
  "kernelspec": {
   "display_name": "cara_cv4e",
   "language": "python",
   "name": "cara_cv4e"
  },
  "language_info": {
   "codemirror_mode": {
    "name": "ipython",
    "version": 3
   },
   "file_extension": ".py",
   "mimetype": "text/x-python",
   "name": "python",
   "nbconvert_exporter": "python",
   "pygments_lexer": "ipython3",
   "version": "3.9.0"
  },
  "orig_nbformat": 4
 },
 "nbformat": 4,
 "nbformat_minor": 2
}

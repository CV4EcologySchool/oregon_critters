{
 "cells": [
  {
   "cell_type": "code",
   "execution_count": 1,
   "metadata": {},
   "outputs": [],
   "source": [
    "#script to read in a directory of files and extract date_created for JPGs\n",
    "\n",
    "import os\n",
    "import exifread\n",
    "import pandas as pd"
   ]
  },
  {
   "cell_type": "code",
   "execution_count": 2,
   "metadata": {},
   "outputs": [],
   "source": [
    "#define funcitons\n",
    "\n",
    "def get_creation_date(file_path):\n",
    "    try:\n",
    "        with open(file_path, 'rb') as f:\n",
    "            tags = exifread.process_file(f, details=False, stop_tag='EXIF DateTimeOriginal')\n",
    "            if 'EXIF DateTimeOriginal' in tags:\n",
    "                return tags['EXIF DateTimeOriginal']\n",
    "            else:\n",
    "                return None\n",
    "    except Exception as e:\n",
    "        return str(e)\n",
    "\n",
    "def extract_metadata_from_directory(root_directory):\n",
    "    file_list = []\n",
    "    for root, _, files in os.walk(root_directory):\n",
    "        for file_name in files:\n",
    "            if file_name.lower().endswith('.jpg'):\n",
    "                file_path = os.path.join(root, file_name)\n",
    "                creation_date = get_creation_date(file_path)\n",
    "                file_list.append({\n",
    "                    'Filename': file_name,\n",
    "                    'Full Path': file_path,\n",
    "                    'Creation Date': creation_date\n",
    "                })\n",
    "    return file_list"
   ]
  },
  {
   "cell_type": "code",
   "execution_count": 4,
   "metadata": {},
   "outputs": [
    {
     "name": "stdout",
     "output_type": "stream",
     "text": [
      "                                           Filename  \\\n",
      "0       GRID_05_05B__2020-04-13__06-21-37(3)_aa.JPG   \n",
      "1       GRID_05_05B__2020-04-17__19-28-39(3)_aa.JPG   \n",
      "2       GRID_05_05A__2021-10-31__11-43-44(1)_aa.JPG   \n",
      "3       GRID_05_05B__2020-04-17__19-28-39(2)_aa.JPG   \n",
      "4       GRID_05_05B__2020-04-13__06-21-36(1)_aa.JPG   \n",
      "...                                             ...   \n",
      "119567                Drive_06_03140025_3801_jn.JPG   \n",
      "119568                   Drive_03_RCNX0050_1_jn.JPG   \n",
      "119569                Drive_06_04150135_4035_jn.JPG   \n",
      "119570                     Drive_05_RCNX0122_jn.JPG   \n",
      "119571                     Drive_01_07040082_jn.JPG   \n",
      "\n",
      "                                                Full Path        Creation Date  \n",
      "0       /Users/caraappel/Documents/CV4E/data/HJA_GRID/...  2020:04:13 06:21:37  \n",
      "1       /Users/caraappel/Documents/CV4E/data/HJA_GRID/...  2020:04:17 19:28:39  \n",
      "2       /Users/caraappel/Documents/CV4E/data/HJA_GRID/...  2021:10:31 11:43:44  \n",
      "3       /Users/caraappel/Documents/CV4E/data/HJA_GRID/...  2020:04:17 19:28:39  \n",
      "4       /Users/caraappel/Documents/CV4E/data/HJA_GRID/...  2020:04:13 06:21:36  \n",
      "...                                                   ...                  ...  \n",
      "119567  /Users/caraappel/Documents/CV4E/data/COA_2020/...  2020:03:14 03:29:15  \n",
      "119568  /Users/caraappel/Documents/CV4E/data/COA_2020/...  2020:06:24 13:59:55  \n",
      "119569  /Users/caraappel/Documents/CV4E/data/COA_2020/...  2020:04:15 19:36:49  \n",
      "119570  /Users/caraappel/Documents/CV4E/data/COA_2020/...  2020:05:15 19:39:40  \n",
      "119571  /Users/caraappel/Documents/CV4E/data/COA_2020/...  2020:07:04 18:14:26  \n",
      "\n",
      "[119572 rows x 3 columns]\n"
     ]
    }
   ],
   "source": [
    "# Set directory path\n",
    "root_directory = '/Users/caraappel/Documents/CV4E/data'\n",
    "metadata_list = extract_metadata_from_directory(root_directory)\n",
    "\n",
    "# Create a Pandas DataFrame from the list of metadata\n",
    "df = pd.DataFrame(metadata_list)\n",
    "\n",
    "# Display the DataFrame\n",
    "print(df)\n",
    "\n",
    "# Optionally, you can save the DataFrame to a CSV file\n",
    "df.to_csv('/Users/caraappel/Documents/CV4E/oregon_critters/dataset_date_created_exif.csv', index=False)\n",
    "\n"
   ]
  },
  {
   "cell_type": "code",
   "execution_count": null,
   "metadata": {},
   "outputs": [],
   "source": []
  }
 ],
 "metadata": {
  "kernelspec": {
   "display_name": "cv4e",
   "language": "python",
   "name": "python3"
  },
  "language_info": {
   "codemirror_mode": {
    "name": "ipython",
    "version": 3
   },
   "file_extension": ".py",
   "mimetype": "text/x-python",
   "name": "python",
   "nbconvert_exporter": "python",
   "pygments_lexer": "ipython3",
   "version": "3.8.17"
  },
  "orig_nbformat": 4
 },
 "nbformat": 4,
 "nbformat_minor": 2
}

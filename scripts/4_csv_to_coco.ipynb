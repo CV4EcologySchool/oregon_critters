{
 "cells": [
  {
   "cell_type": "code",
   "execution_count": 2,
   "metadata": {},
   "outputs": [
    {
     "name": "stdout",
     "output_type": "stream",
     "text": [
      "/home/cara/oregon_critters/scripts\n"
     ]
    }
   ],
   "source": [
    "# Convert CSV to COCO JSON file\n",
    "\n",
    "import csv\n",
    "import json\n",
    "import os\n",
    "\n",
    "print(os.getcwd())\n"
   ]
  },
  {
   "cell_type": "code",
   "execution_count": 8,
   "metadata": {},
   "outputs": [],
   "source": [
    "# Define function\n",
    "\n",
    "def csv_to_coco(csv_file_path, output_json_path):\n",
    "    coco_data = {\n",
    "        \"info\": {\n",
    "            \"year\": 2023,\n",
    "            \"version\": \"1.0\",\n",
    "            \"description\": \"CSV to COCO conversion\",\n",
    "            \"contributor\": \"\",\n",
    "            \"url\": \"\",\n",
    "            \"date_created\": \"2023-08-18\"\n",
    "        },\n",
    "        \"licenses\": [],\n",
    "        \"categories\": [],\n",
    "        \"images\": [],\n",
    "        \"annotations\": []\n",
    "    }\n",
    "\n",
    "    category_id_map = {}\n",
    "    image_id_map = {}\n",
    "    annotation_id = 1\n",
    "\n",
    "    with open(csv_file_path, 'r') as csv_file:\n",
    "        csv_reader = csv.DictReader(csv_file)\n",
    "        for row in csv_reader:\n",
    "            filename = row['full_path_new']\n",
    "            class_name = row['CName']\n",
    "            xmin = float(row['X'])\n",
    "            ymin = float(row['Y'])\n",
    "            width = float(row['W'])\n",
    "            height = float(row['H'])\n",
    "\n",
    "            if class_name not in category_id_map:\n",
    "                category_id = len(category_id_map) + 1\n",
    "                category_id_map[class_name] = category_id\n",
    "                coco_data['categories'].append({\n",
    "                    \"id\": category_id,\n",
    "                    \"name\": class_name,\n",
    "                    \"supercategory\": \"object\"\n",
    "                })\n",
    "            \n",
    "            if filename in image_id_map:\n",
    "                image_id = image_id_map[filename]\n",
    "            else:\n",
    "                image_id = len(coco_data['images']) + 1\n",
    "                image_id_map[filename] = image_id\n",
    "            \n",
    "                coco_data['images'].append({\n",
    "                    \"id\": image_id,\n",
    "                    \"file_name\": filename,\n",
    "                    \"width\": width,\n",
    "                    \"height\": height\n",
    "                })\n",
    "\n",
    "            annotation = {\n",
    "                \"id\": annotation_id,\n",
    "                \"image_id\": image_id,\n",
    "                \"category_id\": category_id_map[class_name],\n",
    "                \"bbox\": [xmin, ymin, width, height],\n",
    "                \"area\": width * height,\n",
    "                \"iscrowd\": 0\n",
    "            }\n",
    "            coco_data['annotations'].append(annotation)\n",
    "            annotation_id += 1\n",
    "\n",
    "    with open(output_json_path, 'w') as output_json_file:\n",
    "        json.dump(coco_data, output_json_file, indent=4)\n"
   ]
  },
  {
   "cell_type": "code",
   "execution_count": 11,
   "metadata": {},
   "outputs": [],
   "source": [
    "##train\n",
    "csv_file_path = '/home/cara/oregon_critters/sampled_ds_ground_620_train.csv'\n",
    "output_json_path = '/home/cara/oregon_critters/json/dataset_ground_620_train.json'\n",
    "csv_to_coco(csv_file_path, output_json_path)\n",
    "\n",
    "##val\n",
    "# csv_file_path = '/home/cara/oregon_critters/sampled_ds_ground_620_val.csv'\n",
    "# output_json_path = '/home/cara/oregon_critters/json/dataset_ground_620_val.json'\n",
    "# csv_to_coco(csv_file_path, output_json_path)\n",
    "\n",
    "##test\n",
    "# csv_file_path = '/home/cara/oregon_critters/sampled_ds_ground_620_test.csv'\n",
    "# output_json_path = '/home/cara/oregon_critters/json/dataset_ground_620_test.json'\n",
    "# csv_to_coco(csv_file_path, output_json_path)\n"
   ]
  },
  {
   "cell_type": "code",
   "execution_count": null,
   "metadata": {},
   "outputs": [],
   "source": []
  },
  {
   "attachments": {},
   "cell_type": "markdown",
   "metadata": {},
   "source": []
  }
 ],
 "metadata": {
  "kernelspec": {
   "display_name": "cv4e",
   "language": "python",
   "name": "python3"
  },
  "language_info": {
   "codemirror_mode": {
    "name": "ipython",
    "version": 3
   },
   "file_extension": ".py",
   "mimetype": "text/x-python",
   "name": "python",
   "nbconvert_exporter": "python",
   "pygments_lexer": "ipython3",
   "version": "3.9.17"
  },
  "orig_nbformat": 4
 },
 "nbformat": 4,
 "nbformat_minor": 2
}

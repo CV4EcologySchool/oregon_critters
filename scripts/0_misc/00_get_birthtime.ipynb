{
 "cells": [
  {
   "cell_type": "code",
   "execution_count": null,
   "metadata": {},
   "outputs": [],
   "source": [
    "#script to read in a directory of files and extract date_created for JPGs\n",
    "\n",
    "import os\n",
    "import exifread\n",
    "import pandas as pd"
   ]
  },
  {
   "cell_type": "code",
   "execution_count": null,
   "metadata": {},
   "outputs": [],
   "source": [
    "#define funcitons\n",
    "\n",
    "def get_creation_date(file_path):\n",
    "    try:\n",
    "        with open(file_path, 'rb') as f:\n",
    "            tags = exifread.process_file(f, details=False, stop_tag='EXIF DateTimeOriginal')\n",
    "            if 'EXIF DateTimeOriginal' in tags:\n",
    "                return tags['EXIF DateTimeOriginal']\n",
    "            else:\n",
    "                return None\n",
    "    except Exception as e:\n",
    "        return str(e)\n",
    "\n",
    "def extract_metadata_from_directory(root_directory):\n",
    "    file_list = []\n",
    "    for root, _, files in os.walk(root_directory):\n",
    "        for file_name in files:\n",
    "            if file_name.lower().endswith('.jpg'):\n",
    "                file_path = os.path.join(root, file_name)\n",
    "                creation_date = get_creation_date(file_path)\n",
    "                file_list.append({\n",
    "                    'Filename': file_name,\n",
    "                    'Full Path': file_path,\n",
    "                    'Creation Date': creation_date\n",
    "                })\n",
    "    return file_list"
   ]
  },
  {
   "cell_type": "code",
   "execution_count": 7,
   "metadata": {},
   "outputs": [
    {
     "name": "stdout",
     "output_type": "stream",
     "text": [
      "                   Filename  \\\n",
      "0     18905B_trail_0008.JPG   \n",
      "1     19006D_trail_0114.JPG   \n",
      "2     18712D_trail_0005.JPG   \n",
      "3     18710D_trail_0179.JPG   \n",
      "4     19102E_trail_0023.JPG   \n",
      "...                     ...   \n",
      "2199  18710D_trail_0835.JPG   \n",
      "2200  19004G_trail_0211.JPG   \n",
      "2201  18710D_trail_0821.JPG   \n",
      "2202  18710D_trail_0174.JPG   \n",
      "2203           IMG_0794.JPG   \n",
      "\n",
      "                                              Full Path        Creation Date  \n",
      "0     /Users/caraappel/Documents/CV4E/data/empty_pho...  2022:08:23 11:58:47  \n",
      "1     /Users/caraappel/Documents/CV4E/data/empty_pho...  2022:09:03 06:47:16  \n",
      "2     /Users/caraappel/Documents/CV4E/data/empty_pho...  2022:09:07 14:06:06  \n",
      "3     /Users/caraappel/Documents/CV4E/data/empty_pho...  2022:09:08 12:34:46  \n",
      "4     /Users/caraappel/Documents/CV4E/data/empty_pho...  2022:07:20 14:16:57  \n",
      "...                                                 ...                  ...  \n",
      "2199  /Users/caraappel/Documents/CV4E/data/empty_pho...  2022:09:23 16:24:35  \n",
      "2200  /Users/caraappel/Documents/CV4E/data/empty_pho...  2022:08:16 21:10:00  \n",
      "2201  /Users/caraappel/Documents/CV4E/data/empty_pho...  2022:09:19 16:23:05  \n",
      "2202  /Users/caraappel/Documents/CV4E/data/empty_pho...  2022:09:08 12:30:08  \n",
      "2203  /Users/caraappel/Documents/CV4E/data/empty_pho...  2022:08:14 11:52:12  \n",
      "\n",
      "[2204 rows x 3 columns]\n"
     ]
    }
   ],
   "source": [
    "# Set directory path\n",
    "#root_directory = '/Users/caraappel/Documents/CV4E/data'\n",
    "root_directory = '/Users/caraappel/Documents/CV4E/data/empty_photos/full/ESF_TRAIL_FULL/NONE/'\n",
    "\n",
    "metadata_list = extract_metadata_from_directory(root_directory)\n",
    "\n",
    "# Create a dataframe\n",
    "df = pd.DataFrame(metadata_list)\n",
    "\n",
    "print(df)\n",
    "\n",
    "# Save as CSV\n",
    "# df.to_csv('/Users/caraappel/Documents/CV4E/oregon_critters/dataset_date_created_exif.csv', index=False)\n",
    "df.to_csv('/Users/caraappel/Documents/CV4E/oregon_critters/datetimes/ESF_GROUND_TRAIL_date_created_exif.csv', index=False)\n",
    "\n"
   ]
  },
  {
   "cell_type": "code",
   "execution_count": null,
   "metadata": {},
   "outputs": [],
   "source": []
  }
 ],
 "metadata": {
  "kernelspec": {
   "display_name": "cv4e",
   "language": "python",
   "name": "python3"
  },
  "language_info": {
   "codemirror_mode": {
    "name": "ipython",
    "version": 3
   },
   "file_extension": ".py",
   "mimetype": "text/x-python",
   "name": "python",
   "nbconvert_exporter": "python",
   "pygments_lexer": "ipython3",
   "version": "3.8.17"
  },
  "orig_nbformat": 4
 },
 "nbformat": 4,
 "nbformat_minor": 2
}

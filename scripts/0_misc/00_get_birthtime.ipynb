{
 "cells": [
  {
   "cell_type": "code",
   "execution_count": 6,
   "metadata": {},
   "outputs": [],
   "source": [
    "#script to read in a directory of files and extract date_created for JPGs\n",
    "\n",
    "import os\n",
    "import exifread\n",
    "import pandas as pd"
   ]
  },
  {
   "cell_type": "code",
   "execution_count": 7,
   "metadata": {},
   "outputs": [],
   "source": [
    "#define funcitons\n",
    "\n",
    "def get_creation_date(file_path):\n",
    "    try:\n",
    "        with open(file_path, 'rb') as f:\n",
    "            tags = exifread.process_file(f, details=False, stop_tag='EXIF DateTimeOriginal')\n",
    "            if 'EXIF DateTimeOriginal' in tags:\n",
    "                return tags['EXIF DateTimeOriginal']\n",
    "            else:\n",
    "                return None\n",
    "    except Exception as e:\n",
    "        return str(e)\n",
    "\n",
    "def extract_metadata_from_directory(root_directory):\n",
    "    file_list = []\n",
    "    for root, _, files in os.walk(root_directory):\n",
    "        for file_name in files:\n",
    "            if file_name.lower().endswith('.jpg'):\n",
    "                file_path = os.path.join(root, file_name)\n",
    "                creation_date = get_creation_date(file_path)\n",
    "                file_list.append({\n",
    "                    'Filename': file_name,\n",
    "                    'Full Path': file_path,\n",
    "                    'Creation Date': creation_date\n",
    "                })\n",
    "    return file_list"
   ]
  },
  {
   "cell_type": "code",
   "execution_count": 9,
   "metadata": {},
   "outputs": [
    {
     "name": "stderr",
     "output_type": "stream",
     "text": [
      "File format not recognized.\n"
     ]
    },
    {
     "name": "stdout",
     "output_type": "stream",
     "text": [
      "                  Filename                                          Full Path  \\\n",
      "0      207746_06070161.JPG  /Users/caraappel/Documents/CV4E/data/empty_pho...   \n",
      "1      258173_08240291.JPG  /Users/caraappel/Documents/CV4E/data/empty_pho...   \n",
      "2      SM-08B_IMG_0036.JPG  /Users/caraappel/Documents/CV4E/data/empty_pho...   \n",
      "3    Hobo-211_IMG_0318.JPG  /Users/caraappel/Documents/CV4E/data/empty_pho...   \n",
      "4      307043_01010980.JPG  /Users/caraappel/Documents/CV4E/data/empty_pho...   \n",
      "..                     ...                                                ...   \n",
      "979    134101_07220380.JPG  /Users/caraappel/Documents/CV4E/data/empty_pho...   \n",
      "980    252447_08030362.JPG  /Users/caraappel/Documents/CV4E/data/empty_pho...   \n",
      "981    248762_07160286.JPG  /Users/caraappel/Documents/CV4E/data/empty_pho...   \n",
      "982    150802_07170711.JPG  /Users/caraappel/Documents/CV4E/data/empty_pho...   \n",
      "983    268413_05190261.JPG  /Users/caraappel/Documents/CV4E/data/empty_pho...   \n",
      "\n",
      "           Creation Date  \n",
      "0    2019:06:07 21:22:34  \n",
      "1    2018:08:24 06:42:55  \n",
      "2    2019:07:06 00:20:03  \n",
      "3    2019:07:30 04:56:18  \n",
      "4    2014:01:01 15:03:17  \n",
      "..                   ...  \n",
      "979  2019:07:22 08:30:02  \n",
      "980  2019:08:03 05:45:59  \n",
      "981  2018:07:16 11:15:50  \n",
      "982  2018:07:17 16:07:05  \n",
      "983  2019:05:19 10:28:08  \n",
      "\n",
      "[984 rows x 3 columns]\n"
     ]
    }
   ],
   "source": [
    "# Set directory path\n",
    "#root_directory = '/Users/caraappel/Documents/CV4E/data'\n",
    "#root_directory = '/Users/caraappel/Documents/CV4E/data/empty_photos/full/ESF_TRAIL_FULL/NONE/'\n",
    "#root_directory = '/Users/caraappel/Library/CloudStorage/Box-Box/ForCara_EmptyTrailcamPhotos/'\n",
    "root_directory = '/Users/caraappel/Documents/CV4E/data/empty_photos/subsets_1000/HJA_MARIE/'\n",
    "\n",
    "metadata_list = extract_metadata_from_directory(root_directory)\n",
    "\n",
    "# Create a dataframe\n",
    "df = pd.DataFrame(metadata_list)\n",
    "\n",
    "print(df)\n",
    "\n",
    "# Save as CSV\n",
    "# df.to_csv('/Users/caraappel/Documents/CV4E/oregon_critters/dataset_date_created_exif.csv', index=False)\n",
    "# df.to_csv('/Users/caraappel/Documents/CV4E/oregon_critters/datetimes/ESF_GROUND_TRAIL_date_created_exif.csv', index=False)\n",
    "df.to_csv('/Users/caraappel/Documents/CV4E/oregon_critters/datetimes/HJA_MARIE_empties_date_created_exif.csv', index=False)\n",
    "\n"
   ]
  },
  {
   "cell_type": "code",
   "execution_count": null,
   "metadata": {},
   "outputs": [],
   "source": []
  }
 ],
 "metadata": {
  "kernelspec": {
   "display_name": "cv4e",
   "language": "python",
   "name": "python3"
  },
  "language_info": {
   "codemirror_mode": {
    "name": "ipython",
    "version": 3
   },
   "file_extension": ".py",
   "mimetype": "text/x-python",
   "name": "python",
   "nbconvert_exporter": "python",
   "pygments_lexer": "ipython3",
   "version": "3.8.17"
  },
  "orig_nbformat": 4
 },
 "nbformat": 4,
 "nbformat_minor": 2
}

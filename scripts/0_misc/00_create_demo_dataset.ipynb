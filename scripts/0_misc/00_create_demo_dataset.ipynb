{
 "cells": [
  {
   "cell_type": "code",
   "execution_count": 1,
   "metadata": {},
   "outputs": [],
   "source": [
    "## Create a 'demo' set for testing YOLO with a small batch (~100 images)\n",
    "\n",
    "import pandas as pd\n",
    "import random"
   ]
  },
  {
   "cell_type": "code",
   "execution_count": 5,
   "metadata": {},
   "outputs": [],
   "source": [
    "# Find the \"trail\" data and create a \"demo\" data as a subset of that\n",
    "#input_file_path = '/Users/caraappel/Documents/CV4E/oregon_critters/metadata_labels/trail_split_dim.csv'\n",
    "#output_file_path = '/Users/caraappel/Documents/CV4E/oregon_critters/metadata_labels/demo.csv'\n",
    "\n",
    "# Second demo set (1000 instead of 100): start with 'both'\n",
    "input_file_path = '/Users/caraappel/Documents/CV4E/oregon_critters/metadata_labels/both_split_dim.csv'\n",
    "output_file_path = '/Users/caraappel/Documents/CV4E/oregon_critters/metadata_labels/demo2.csv'\n",
    "\n",
    "# Number of rows to randomly extract\n",
    "X = 1000\n",
    "\n",
    "# Read in csv file\n",
    "df = pd.read_csv(input_file_path)"
   ]
  },
  {
   "cell_type": "code",
   "execution_count": 6,
   "metadata": {},
   "outputs": [
    {
     "name": "stdout",
     "output_type": "stream",
     "text": [
      "Randomly selected 1000 rows saved to /Users/caraappel/Documents/CV4E/oregon_critters/metadata_labels/demo2.csv.\n"
     ]
    }
   ],
   "source": [
    "# Extract subset of rows\n",
    "if len(df) < X:\n",
    "    print(f\"Error: The DataFrame has fewer than {X} rows.\")\n",
    "else:\n",
    "    # Randomly select X rows\n",
    "    random_rows = df.sample(n=X, random_state=42)  # Set a seed for reproducibility\n",
    "\n",
    "    # Save the randomly selected rows to a new CSV file\n",
    "    random_rows.to_csv(output_file_path, index=False)\n",
    "\n",
    "    print(f\"Randomly selected {X} rows saved to {output_file_path}.\")"
   ]
  },
  {
   "cell_type": "code",
   "execution_count": 7,
   "metadata": {},
   "outputs": [
    {
     "name": "stdout",
     "output_type": "stream",
     "text": [
      "Summary of 'group' column:\n",
      "group\n",
      "train    692\n",
      "val      166\n",
      "test     142\n",
      "Name: count, dtype: int64\n"
     ]
    }
   ],
   "source": [
    "# Summarize the number of rows from each group (train/test/val)\n",
    "type_counts = random_rows['group'].value_counts()\n",
    "\n",
    "print(\"Summary of 'group' column:\")\n",
    "print(type_counts)"
   ]
  },
  {
   "cell_type": "code",
   "execution_count": 8,
   "metadata": {},
   "outputs": [
    {
     "name": "stdout",
     "output_type": "stream",
     "text": [
      "Text file for group test created: /Users/caraappel/Documents/CV4E/oregon_critters/metadata_labels/demo2_test_filenames.txt\n",
      "Text file for group train created: /Users/caraappel/Documents/CV4E/oregon_critters/metadata_labels/demo2_train_filenames.txt\n",
      "Text file for group val created: /Users/caraappel/Documents/CV4E/oregon_critters/metadata_labels/demo2_val_filenames.txt\n"
     ]
    }
   ],
   "source": [
    "# Now create .txt files for train/test/val filenames\n",
    "unique_groups = random_rows['group'].unique()\n",
    "\n",
    "# Create separate text files for each group\n",
    "for group in unique_groups:\n",
    "    # Filter the DataFrame for the current group\n",
    "    group_df = random_rows[random_rows['group'] == group]\n",
    "\n",
    "    # Extract the \"filename\" values for the current group\n",
    "    filenames = group_df['full_path'].tolist()\n",
    "\n",
    "    # Create a text file for the current group\n",
    "    output_file_path = f'/Users/caraappel/Documents/CV4E/oregon_critters/metadata_labels/demo2_{group}_filenames.txt'\n",
    "    with open(output_file_path, 'w') as file:\n",
    "        file.write('\\n'.join(filenames))\n",
    "\n",
    "    print(f\"Text file for group {group} created: {output_file_path}\")\n"
   ]
  },
  {
   "cell_type": "code",
   "execution_count": null,
   "metadata": {},
   "outputs": [],
   "source": [
    "## Now also run scripts prep_3, 5, 7, and 8 to finish making this \"demo\" set"
   ]
  },
  {
   "cell_type": "code",
   "execution_count": null,
   "metadata": {},
   "outputs": [],
   "source": [
    "## Just needed to do this once... skip below\n",
    "# Fix empty \"both_train.txt\", \"both_val.txt\", and \"both_test.txt\" files\n",
    "\n",
    "input_file_path = '/Users/caraappel/Documents/CV4E/oregon_critters/metadata_labels/both_split.csv'\n",
    "df = pd.read_csv(input_file_path)\n",
    "\n",
    "type_counts = df['group'].value_counts()\n",
    "\n",
    "print(\"Summary of 'group' column:\")\n",
    "print(type_counts)\n",
    "\n",
    "#\n",
    "unique_groups = df['group'].unique()\n",
    "\n",
    "# Create separate text files for each group\n",
    "for group in unique_groups:\n",
    "    # Filter the DataFrame for the current group\n",
    "    group_df = df[df['group'] == group]\n",
    "\n",
    "    # Extract the \"filename\" values for the current group\n",
    "    filenames = group_df['full_path'].tolist()\n",
    "\n",
    "    # Create a text file for the current group\n",
    "    output_file_path = f'/Users/caraappel/Documents/CV4E/oregon_critters/metadata_labels/both_{group}_new.txt'\n",
    "    with open(output_file_path, 'w') as file:\n",
    "        file.write('\\n'.join(filenames))\n",
    "\n",
    "    print(f\"Text file for group {group} created: {output_file_path}\")\n"
   ]
  },
  {
   "cell_type": "code",
   "execution_count": null,
   "metadata": {},
   "outputs": [],
   "source": []
  }
 ],
 "metadata": {
  "kernelspec": {
   "display_name": "cv4e",
   "language": "python",
   "name": "python3"
  },
  "language_info": {
   "codemirror_mode": {
    "name": "ipython",
    "version": 3
   },
   "file_extension": ".py",
   "mimetype": "text/x-python",
   "name": "python",
   "nbconvert_exporter": "python",
   "pygments_lexer": "ipython3",
   "version": "3.8.17"
  },
  "orig_nbformat": 4
 },
 "nbformat": 4,
 "nbformat_minor": 2
}

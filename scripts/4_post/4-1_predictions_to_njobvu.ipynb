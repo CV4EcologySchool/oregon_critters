{
 "cells": [
  {
   "cell_type": "code",
   "execution_count": 1,
   "metadata": {},
   "outputs": [],
   "source": [
    "#Convert YOLO predictions to format needed for Njobvu-AI input\n",
    "\n",
    "import pandas as pd\n",
    "import json\n",
    "import yaml"
   ]
  },
  {
   "cell_type": "code",
   "execution_count": 32,
   "metadata": {},
   "outputs": [],
   "source": [
    "#define conversion function           **change path format below**\n",
    "def convert_entry(entry, class_ids, img_dims):\n",
    "    class_id = entry[\"category_id\"]\n",
    "    class_name = class_ids.get(class_id, \"unknown\")\n",
    "    dimensions = img_dims[img_dims['image_name'] == entry['image_id'] + '.JPG']\n",
    "\n",
    "    converted_entry = {\n",
    "        \"frame_id\": 1,\n",
    "        # \"filename\": f\"/data/{entry['image_id']}.JPG\",  #for finding files locally\n",
    "        \"filename\": f\"/nfs6/FW_HMSC/Levi_Lab/YOLO_photos/COA_training/oregon_critters/demo2/{dimensions['full_path'].values[0]}\", #for files on server\n",
    "        \"objects\": []\n",
    "    }\n",
    "    \n",
    "    #to handle potentially empty dimensions\n",
    "    if not dimensions.empty:\n",
    "        converted_entry[\"objects\"].append({\n",
    "                \"class_id\": int(class_id),\n",
    "                \"name\": class_name,\n",
    "                \"image_width\": int(dimensions['img_width'].values[0]),\n",
    "                \"image_height\": int(dimensions['img_height'].values[0]),\n",
    "                \"relative_coordinates\": {\n",
    "                    \"center_x\": float(entry[\"bbox\"][0] / dimensions['img_width'].values[0]),  #check math here\n",
    "                    \"center_y\": float(entry[\"bbox\"][1] / dimensions['img_height'].values[0]),  \n",
    "                    \"width\": float(entry[\"bbox\"][2] / dimensions['img_width'].values[0]), \n",
    "                    \"height\": float(entry[\"bbox\"][3] / dimensions['img_height'].values[0]),  \n",
    "                },\n",
    "                \"confidence\": float(entry[\"score\"])\n",
    "            })\n",
    "    else:\n",
    "        print(f\"No dimensions found for image ID: {entry['image_id']}\")\n",
    "\n",
    "    return converted_entry\n"
   ]
  },
  {
   "cell_type": "code",
   "execution_count": 29,
   "metadata": {},
   "outputs": [],
   "source": [
    "#specify file paths for YOLO predictions, YAML with class IDs, and CSV with image dimensions\n",
    "yolo_path = '/Volumes/Cara_cam_traps/CV4E/data_cleaned/demo2/predictions.json'\n",
    "yaml_path = '/Volumes/Cara_cam_traps/CV4E/data_cleaned/demo2/dataset.yaml'\n",
    "csv_path = '/Volumes/Cara_cam_traps/CV4E/data_cleaned/demo2/demo2_with_empties.csv'\n",
    "\n",
    "#load these files\n",
    "with open(yolo_path, 'r') as json_file:\n",
    "    yolo_data = json.load(json_file)\n",
    "\n",
    "with open(yaml_path, 'r') as yaml_file:\n",
    "    yaml_data = yaml.safe_load(yaml_file)\n",
    "    class_ids = yaml_data.get('names', {})\n",
    "\n",
    "img_dims = pd.read_csv(csv_path)"
   ]
  },
  {
   "cell_type": "code",
   "execution_count": 33,
   "metadata": {},
   "outputs": [],
   "source": [
    "# Convert each entry in the original JSON to the new format\n",
    "converted_json = [convert_entry(entry, class_ids, img_dims) for entry in yolo_data]\n",
    "\n",
    "# Output the converted JSON\n",
    "#print(json.dumps(converted_json, indent=2))\n"
   ]
  },
  {
   "cell_type": "code",
   "execution_count": 34,
   "metadata": {},
   "outputs": [],
   "source": [
    "#specify output locations\n",
    "out_json = '/Volumes/Cara_cam_traps/CV4E/data_cleaned/demo2/predictions_njobvu.json'\n",
    "out_text = '/Volumes/Cara_cam_traps/CV4E/data_cleaned/demo2/predictions_njobvu.txt'\n",
    "\n",
    "#save\n",
    "with open(out_json, \"w\") as json_output_file:\n",
    "    json.dump(converted_json, json_output_file, indent=2)\n",
    "\n",
    "#also save as a text file\n",
    "with open(out_text, \"w\") as text_output_file:\n",
    "    text_output_file.write(json.dumps(converted_json, indent=2))\n"
   ]
  },
  {
   "cell_type": "code",
   "execution_count": null,
   "metadata": {},
   "outputs": [],
   "source": []
  }
 ],
 "metadata": {
  "kernelspec": {
   "display_name": "cv4e",
   "language": "python",
   "name": "python3"
  },
  "language_info": {
   "codemirror_mode": {
    "name": "ipython",
    "version": 3
   },
   "file_extension": ".py",
   "mimetype": "text/x-python",
   "name": "python",
   "nbconvert_exporter": "python",
   "pygments_lexer": "ipython3",
   "version": "3.8.17"
  },
  "orig_nbformat": 4
 },
 "nbformat": 4,
 "nbformat_minor": 2
}

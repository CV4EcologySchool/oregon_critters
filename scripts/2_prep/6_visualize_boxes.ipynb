{
 "cells": [
  {
   "cell_type": "code",
   "execution_count": 4,
   "metadata": {},
   "outputs": [],
   "source": [
    "from PIL import Image, ImageDraw, ImageFont\n",
    "import json\n",
    "from IPython.display import display\n",
    "\n",
    "# Specify directory where the images are located\n",
    "image_directory = \"/Users/caraappel/Documents/CV4E\"\n",
    "\n",
    "# Load COCO JSON file\n",
    "coco_json_path = '/Users/caraappel/Documents/CV4E/oregon_critters/coco_json/both.json'\n",
    "with open(coco_json_path, 'r') as json_file:\n",
    "    coco_data = json.load(json_file)\n"
   ]
  },
  {
   "cell_type": "code",
   "execution_count": 38,
   "metadata": {},
   "outputs": [],
   "source": [
    "# Define function to visualize annotations for a specific image\n",
    "def visualize_annotations_for_image(image_info, annotations, categories):\n",
    "    image_path = image_directory + \"/\" + image_info['file_name']\n",
    "    image = Image.open(image_path)\n",
    "    draw = ImageDraw.Draw(image)\n",
    " \n",
    "    # Customize font and fill color for the label text\n",
    "    #label_font = ImageFont.load_default()  \n",
    "    label_font = ImageFont.truetype('/Users/caraappel/Documents/Inclusive_Sans/InclusiveSans-Regular.ttf', 36)\n",
    "    label_fill = 'white'  \n",
    "    \n",
    "    for ann in annotations:\n",
    "        \n",
    "        # Draw the bounding box\n",
    "        bbox = ann['bbox']\n",
    "        x1, y1, width, height = bbox\n",
    "        x2, y2 = x1 + width, y1 + height\n",
    "        draw.rectangle([x1, y1, x2, y2], outline='red', width=5)\n",
    "        \n",
    "        category_id = ann['category_id']\n",
    "        category_name = next((cat['name'] for cat in categories if cat['id'] == category_id), \"Unknown\")\n",
    "        label_text = f\"{category_name}\"\n",
    "        \n",
    "        # Draw the textbox\n",
    "        label_bbox = draw.textbbox((x1, y1), label_text, font=label_font)\n",
    "        draw.rectangle(label_bbox, fill='black')\n",
    "       \n",
    "        # Add label text\n",
    "        draw.text((label_bbox[0], label_bbox[1]), label_text, fill=label_fill, font=label_font)\n",
    "\n",
    "    #display(image)  #to display the image directly in the notebook\n",
    "    image.show()     #to open a new window with the image\n"
   ]
  },
  {
   "cell_type": "code",
   "execution_count": 49,
   "metadata": {},
   "outputs": [],
   "source": [
    "# Choose an image ID to visualize\n",
    "image_id_to_visualize = 780  \n",
    "\n",
    "# Find the image information, annotations, and categories for the specified image ID\n",
    "image_info = next((img for img in coco_data['images'] if img['id'] == image_id_to_visualize), None)\n",
    "annotations = [ann for ann in coco_data['annotations'] if ann['image_id'] == image_id_to_visualize]\n",
    "categories = coco_data['categories']\n",
    "\n",
    "# Visualize the bounding boxes and labels for the specified image\n",
    "if image_info and annotations:\n",
    "    visualize_annotations_for_image(image_info, annotations, categories)\n",
    "else:\n",
    "    print(\"Image information or annotations not found.\")"
   ]
  }
 ],
 "metadata": {
  "kernelspec": {
   "display_name": "cv4e",
   "language": "python",
   "name": "python3"
  },
  "language_info": {
   "codemirror_mode": {
    "name": "ipython",
    "version": 3
   },
   "file_extension": ".py",
   "mimetype": "text/x-python",
   "name": "python",
   "nbconvert_exporter": "python",
   "pygments_lexer": "ipython3",
   "version": "3.8.17"
  },
  "orig_nbformat": 4
 },
 "nbformat": 4,
 "nbformat_minor": 2
}

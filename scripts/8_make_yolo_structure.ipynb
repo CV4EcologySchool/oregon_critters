{
 "cells": [
  {
   "cell_type": "code",
   "execution_count": null,
   "metadata": {},
   "outputs": [],
   "source": [
    "# Create correct folder structure for YOLO files\n",
    "\n",
    "import os \n",
    "import pandas as pd"
   ]
  },
  {
   "cell_type": "code",
   "execution_count": null,
   "metadata": {},
   "outputs": [],
   "source": [
    "# Create empty folder structure to save YOLO .txt files in them\n",
    "\n",
    "# Read in file paths\n",
    "image_csv = pd.read_csv('/Users/caraappel/Documents/CV4E/oregon_critters/metadata_labels/sampled_ds_300.csv')\n",
    "image_paths = image_csv['full_path'].values\n",
    "\n",
    "# Extract the directories from the image paths\n",
    "directories = [os.path.dirname(image_path) for image_path in image_paths]\n",
    "\n",
    "# Specify the target directory where you want to recreate the folder structure\n",
    "target_base_directory = '/Users/caraappel/Documents/CV4E/oregon_critters/scripts/training/labels/' \n",
    "\n",
    "# Re-create the folder structure in the target directory\n",
    "#for directory in directories:\n",
    "#    target_directory = os.path.join(target_base_directory, directory)\n",
    "#    os.makedirs(target_directory, exist_ok=True)\n",
    "\n",
    "#print(\"Folder structure recreated in the target directory.\")\n",
    "\n",
    "## Now run \"coco_to_yolo.ipynb\""
   ]
  },
  {
   "cell_type": "code",
   "execution_count": null,
   "metadata": {},
   "outputs": [],
   "source": [
    "## Now create \"labels\" subfolders within all images subfolders (I did this on remote machine but keep here for consistency)\n",
    "\n",
    "#specify the target directory\n",
    "target_base_directory = '/mnt/ssd-cluster/cara/'  #the 'data' folder is within here\n",
    "\n",
    "#create a 'labels' subfolder in each folder\n",
    "for directory in directories:\n",
    "    new_folder = directory.replace(\"images\", \"labels\")\n",
    "    new_dir = target_base_directory + new_folder\n",
    "    os.makedirs(new_dir, exist_ok=True)"
   ]
  },
  {
   "cell_type": "code",
   "execution_count": null,
   "metadata": {},
   "outputs": [],
   "source": [
    "## Then move the YOLO .txt files into the labels subfolders\n"
   ]
  }
 ],
 "metadata": {
  "kernelspec": {
   "display_name": "cv4e",
   "language": "python",
   "name": "python3"
  },
  "language_info": {
   "codemirror_mode": {
    "name": "ipython",
    "version": 3
   },
   "file_extension": ".py",
   "mimetype": "text/x-python",
   "name": "python",
   "nbconvert_exporter": "python",
   "pygments_lexer": "ipython3",
   "version": "3.8.17"
  },
  "orig_nbformat": 4
 },
 "nbformat": 4,
 "nbformat_minor": 2
}

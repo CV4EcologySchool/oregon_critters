{
 "cells": [
  {
   "cell_type": "code",
   "execution_count": null,
   "metadata": {},
   "outputs": [],
   "source": [
    "#Compare predictions and true labels\n",
    "\n",
    "import pandas as pd\n",
    "import json\n",
    "\n",
    "#pseudocode:\n",
    "\n",
    "#read in predicted bounding boxes\n",
    "pred_df = pd.read_csv('/home/cara/oregon_critters/runs/detect/0_mc/pred_boxes_0mc.csv')\n",
    "\n",
    "#read in true bounding boxes, keep only columns we need, and remove '.JPG' from image name\n",
    "true_csv = pd.read_csv('/home/cara/oregon_critters/sampled_ds_300_split.csv')\n",
    "true_df = true_csv[['IName','CName', 'X','Y','W','H', 'cam_type', 'day_night', 'project', 'group']]\n",
    "true_df['IName'] = true_df.IName.map(lambda x: x.strip('.JPG'))\n",
    "\n",
    "#rename columns\n",
    "true_df.rename(columns={\"IName\": \"image_name\",\"CName\": \"class_true\", \"X\":\"x\", \"Y\":\"y\", \"W\":\"w\", \"H\":\"h\"}, inplace=True)\n"
   ]
  },
  {
   "cell_type": "code",
   "execution_count": null,
   "metadata": {},
   "outputs": [],
   "source": [
    "#Need to add image height and width so I can un-normalize the pred bounding boxes\n",
    "\n",
    "#load json and turn into dataframe\n",
    "with open('/home/cara/oregon_critters/dataset_300_split_adjXY.json', 'r') as json_file:\n",
    "    json_data = json.load(json_file)    \n",
    "\n",
    "json_df = pd.DataFrame(json_data['images'])\n",
    "\n",
    "#extract just image name from the filename\n",
    "json_df['image_name'] = json_df['file_name'].str.extract(r'([^/]+)\\.JPG')\n",
    "\n",
    "#merge with pred_df\n",
    "pred_df = pd.merge(pred_df, json_df[['image_name', 'width', 'height']], left_on='image_name', right_on='image_name', how='left')\n",
    "\n",
    "#convert box dimensions from normalized \n",
    "pred_df['x_pixel'] = pred_df['x'] * pred_df['width']\n",
    "pred_df['y_pixel'] = pred_df['y'] * pred_df['height']\n",
    "pred_df['w_pixel'] = pred_df['w'] * pred_df['width']\n",
    "pred_df['h_pixel'] = pred_df['h'] * pred_df['height']\n"
   ]
  },
  {
   "cell_type": "code",
   "execution_count": null,
   "metadata": {},
   "outputs": [],
   "source": [
    "pred_df.head()\n"
   ]
  },
  {
   "cell_type": "code",
   "execution_count": null,
   "metadata": {},
   "outputs": [],
   "source": [
    "true_df.head()"
   ]
  },
  {
   "cell_type": "code",
   "execution_count": null,
   "metadata": {},
   "outputs": [],
   "source": [
    "# Define function to calculate IOU of two bounding boxes (from Jess):\n",
    "\n",
    "def calculate_iou(x1, y1, w1, h1, x2, y2, w2, h2):\n",
    "\n",
    "    # Define bboxes\n",
    "    box1 = [x1, y1, w1, h1]\n",
    "    box2 = [x2, y2, w2, h2]\n",
    "\n",
    "    # Convert bounding box coordinates to the format (x1, y1, x2, y2)\n",
    "    box1 = [box1[0], box1[1], box1[0] + box1[2], box1[1] + box1[3]]\n",
    "    box2 = [box2[0], box2[1], box2[0] + box2[2], box2[1] + box2[3]]\n",
    "\n",
    "    # Calculate the coordinates of the intersection rectangle\n",
    "    x_intersection = max(box1[0], box2[0])\n",
    "    y_intersection = max(box1[1], box2[1])\n",
    "    w_intersection = min(box1[2], box2[2]) - x_intersection\n",
    "    h_intersection = min(box1[3], box2[3]) - y_intersection\n",
    "\n",
    "    # Calculate the area of intersection\n",
    "    area_intersection = max(0, w_intersection) * max(0, h_intersection)\n",
    "\n",
    "    # Calculate the area of the union\n",
    "    area_box1 = (box1[2] - box1[0]) * (box1[3] - box1[1])\n",
    "    area_box2 = (box2[2] - box2[0]) * (box2[3] - box2[1])\n",
    "    area_union = area_box1 + area_box2 - area_intersection\n",
    "\n",
    "    # Calculate IoU\n",
    "    iou = area_intersection / area_union\n",
    "\n",
    "    return iou\n"
   ]
  },
  {
   "cell_type": "code",
   "execution_count": 72,
   "metadata": {},
   "outputs": [
    {
     "name": "stdout",
     "output_type": "stream",
     "text": [
      "Match found at pred_index 0 and true_index 10\n",
      "Unnamed: 0                                  0\n",
      "image_name    7762-4__2019-08-13__09-17-47(1)\n",
      "class_ID                                   39\n",
      "x                                    0.485311\n",
      "y                                    0.377945\n",
      "w                                    0.192238\n",
      "h                                    0.104651\n",
      "confidence                            0.73672\n",
      "class_pred                             Weasel\n",
      "width                                    3840\n",
      "height                                   2880\n",
      "x_pixel                            1863.59424\n",
      "y_pixel                             1088.4816\n",
      "w_pixel                             738.19392\n",
      "h_pixel                             301.39488\n",
      "Name: 0, dtype: object\n",
      "0.1416413071298903\n"
     ]
    }
   ],
   "source": [
    "box_comparisons = []\n",
    "\n",
    "for pred_index, pred_row in pred_df.iterrows():\n",
    "    pred_image_name = pred_row['image_name']\n",
    "    \n",
    "    matched=False\n",
    "    match_box='Background'\n",
    "\n",
    "    matching_rows = true_df[true_df['image_name'] == pred_image_name]\n",
    "    \n",
    "    for true_index, true_row in matching_rows.iterrows():\n",
    "        print(f\"Match found at pred_index {pred_index} and true_index {true_index}\")\n",
    "        print(pred_row)\n",
    "\n",
    "        #call function to calculate IOU (for 'pred', be sure to use the converted '_pixel' values and not normalized)\n",
    "        iou_result = calculate_iou(pred_row['x_pixel'], pred_row['y_pixel'], pred_row['w_pixel'], pred_row['h_pixel'],true_row['x'],true_row['y'],true_row['w'],true_row['h'])\n",
    "        \n",
    "        print(iou_result)\n",
    "\n",
    "        if iou_result > 0.5:\n",
    "\n",
    "            print(\"now set matched=True and match_box = true_row['class_true']\")\n",
    "\n",
    "    break\n",
    "        \n",
    "    #     print(\"if IOU is >0.5: matched=True, matchbox=true_box.class\")\n",
    "    #     print(\"make sure this captures all boxes in each image\")\n",
    "\n",
    "    # matched.append() #?\n"
   ]
  },
  {
   "cell_type": "code",
   "execution_count": null,
   "metadata": {},
   "outputs": [],
   "source": [
    "#loop through\n",
    "for pred_box in pred_df:\n",
    "    matched = False\n",
    "    match_box = \"Background\"\n",
    "\n",
    "    for true_box in true_df:\n",
    "        if pred_box['image_name'].equals(true_box['image_name']):\n",
    "            print('true')\n",
    "            break"
   ]
  },
  {
   "cell_type": "code",
   "execution_count": null,
   "metadata": {},
   "outputs": [],
   "source": []
  }
 ],
 "metadata": {
  "kernelspec": {
   "display_name": "cara_cv4e",
   "language": "python",
   "name": "cara_cv4e"
  },
  "language_info": {
   "codemirror_mode": {
    "name": "ipython",
    "version": 3
   },
   "file_extension": ".py",
   "mimetype": "text/x-python",
   "name": "python",
   "nbconvert_exporter": "python",
   "pygments_lexer": "ipython3",
   "version": "3.9.0"
  },
  "orig_nbformat": 4
 },
 "nbformat": 4,
 "nbformat_minor": 2
}

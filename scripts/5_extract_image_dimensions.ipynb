{
 "cells": [
  {
   "cell_type": "code",
   "execution_count": 2,
   "metadata": {},
   "outputs": [],
   "source": [
    "# Extract image dimensions \n",
    "\n",
    "import json\n",
    "from PIL import Image\n",
    "import os"
   ]
  },
  {
   "cell_type": "code",
   "execution_count": 3,
   "metadata": {},
   "outputs": [],
   "source": [
    "# Load your COCO JSON dataset\n",
    "#coco_json_path = \"/home/cara/oregon_critters/json/dataset_ground_620_train.json\"\n",
    "#coco_json_path = \"/home/cara/oregon_critters/json/dataset_ground_620_val.json\"\n",
    "coco_json_path = \"/home/cara/oregon_critters/json/dataset_ground_620_test.json\"\n",
    "\n",
    "with open(coco_json_path, 'r') as json_file:\n",
    "    coco_data = json.load(json_file)"
   ]
  },
  {
   "cell_type": "code",
   "execution_count": 4,
   "metadata": {},
   "outputs": [],
   "source": [
    "# Function to get image dimensions\n",
    "def get_image_dimensions(filename):\n",
    "    with Image.open(filename) as img:\n",
    "        return img.size"
   ]
  },
  {
   "cell_type": "code",
   "execution_count": 5,
   "metadata": {},
   "outputs": [],
   "source": [
    "# Update image dimensions in the COCO JSON\n",
    "for image_info in coco_data['images']:\n",
    "    image_filename = os.path.join(\"/home/cara/oregon_critters/\", image_info['file_name']) \n",
    "    width, height = get_image_dimensions(image_filename)\n",
    "    image_info['width'] = width\n",
    "    image_info['height'] = height"
   ]
  },
  {
   "cell_type": "code",
   "execution_count": 14,
   "metadata": {},
   "outputs": [],
   "source": [
    "# Save the updated COCO JSON dataset\n",
    "# updated_coco_json_path = \"/home/cara/oregon_critters/json/dataset_ground_620_adjxy_train.json\"\n",
    "updated_coco_json_path = \"/home/cara/oregon_critters/json/dataset_ground_620_adjxy_val.json\"\n",
    "# updated_coco_json_path = \"/home/cara/oregon_critters/json/dataset_ground_620_adjxy_test.json\"\n",
    "\n",
    "with open(updated_coco_json_path, 'w') as updated_json_file:\n",
    "    json.dump(coco_data, updated_json_file)"
   ]
  },
  {
   "cell_type": "code",
   "execution_count": null,
   "metadata": {},
   "outputs": [],
   "source": []
  }
 ],
 "metadata": {
  "kernelspec": {
   "display_name": "cv4e",
   "language": "python",
   "name": "python3"
  },
  "language_info": {
   "codemirror_mode": {
    "name": "ipython",
    "version": 3
   },
   "file_extension": ".py",
   "mimetype": "text/x-python",
   "name": "python",
   "nbconvert_exporter": "python",
   "pygments_lexer": "ipython3",
   "version": "3.9.17"
  },
  "orig_nbformat": 4
 },
 "nbformat": 4,
 "nbformat_minor": 2
}

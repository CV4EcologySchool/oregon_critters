{
 "cells": [
  {
   "cell_type": "code",
   "execution_count": 38,
   "metadata": {},
   "outputs": [],
   "source": [
    "# Extract image dimensions \n",
    "\n",
    "import json\n",
    "from PIL import Image\n",
    "import os\n",
    "import pandas as pd"
   ]
  },
  {
   "cell_type": "code",
   "execution_count": 39,
   "metadata": {},
   "outputs": [],
   "source": [
    "# Load your COCO JSON dataset\n",
    "#coco_json_path = \"/home/cara/oregon_critters/json/dataset_ground_620_train.json\"\n",
    "#coco_json_path = \"/home/cara/oregon_critters/json/dataset_ground_620_val.json\"\n",
    "#coco_json_path = \"/home/cara/oregon_critters/json/dataset_ground_620_test.json\"\n",
    "#coco_json_path = '/home/cara/oregon_critters/json/dataset_ground_620.json'\n",
    "\n",
    "#coco_json_path = \"/home/cara/oregon_critters/json/dataset_trail_180_train.json\"\n",
    "#coco_json_path = \"/home/cara/oregon_critters/json/dataset_trail_180_val.json\"\n",
    "#coco_json_path = \"/home/cara/oregon_critters/json/dataset_trail_180_test.json\"\n",
    "coco_json_path = '/home/cara/oregon_critters/json/dataset_trail_180.json'\n",
    "\n",
    "with open(coco_json_path, 'r') as json_file:\n",
    "    coco_data = json.load(json_file)"
   ]
  },
  {
   "cell_type": "code",
   "execution_count": 40,
   "metadata": {},
   "outputs": [],
   "source": [
    "# Function to get image dimensions\n",
    "def get_image_dimensions(filename):\n",
    "    with Image.open(filename) as img:\n",
    "        return img.size"
   ]
  },
  {
   "cell_type": "code",
   "execution_count": 42,
   "metadata": {},
   "outputs": [],
   "source": [
    "# Update image dimensions in the COCO JSON\n",
    "for image_info in coco_data['images']:\n",
    "    #image_filename = os.path.join(\"/home/cara/oregon_critters/\", image_info['file_name']) \n",
    "    image_filename = os.path.join(\"/mnt/ssd-cluster/cara/upload_trail_thresh180/\", image_info['file_name'])\n",
    "    width, height = get_image_dimensions(image_filename)\n",
    "    image_info['width'] = width\n",
    "    image_info['height'] = height"
   ]
  },
  {
   "cell_type": "code",
   "execution_count": 43,
   "metadata": {},
   "outputs": [],
   "source": [
    "# Save the updated COCO JSON dataset\n",
    "# updated_coco_json_path = \"/home/cara/oregon_critters/json/dataset_ground_620_adjxy_train.json\"\n",
    "# updated_coco_json_path = \"/home/cara/oregon_critters/json/dataset_ground_620_adjxy_val.json\"\n",
    "# updated_coco_json_path = \"/home/cara/oregon_critters/json/dataset_ground_620_adjxy_test.json\"\n",
    "#updated_coco_json_path = \"/home/cara/oregon_critters/json/dataset_ground_620_adjxy.json\"\n",
    "\n",
    "# updated_coco_json_path = \"/home/cara/oregon_critters/json/dataset_trail_180_adjxy_train.json\"\n",
    "# updated_coco_json_path = \"/home/cara/oregon_critters/json/dataset_trail_180_adjxy_val.json\"\n",
    "# updated_coco_json_path = \"/home/cara/oregon_critters/json/dataset_trail_180_adjxy_test.json\"\n",
    "updated_coco_json_path = \"/home/cara/oregon_critters/json/dataset_trail_180_adjxy.json\"\n",
    "\n",
    "with open(updated_coco_json_path, 'w') as updated_json_file:\n",
    "    json.dump(coco_data, updated_json_file)"
   ]
  },
  {
   "cell_type": "code",
   "execution_count": 44,
   "metadata": {},
   "outputs": [
    {
     "name": "stdout",
     "output_type": "stream",
     "text": [
      "                                              file_name  width  height\n",
      "0     data/COA_2019/COA2019_Bat/images/10316-5__2019...   3840    2880\n",
      "1     data/COA_2019/COA2019_Bat/images/10831-1__2019...   3840    2880\n",
      "2     data/COA_2019/COA2019_Bat/images/8749-3__2019-...   3840    2880\n",
      "3     data/COA_2019/COA2019_Bat/images/8749-3__2019-...   3840    2880\n",
      "4     data/COA_2019/COA2019_Bat/images/8749-3__2019-...   3840    2880\n",
      "...                                                 ...    ...     ...\n",
      "6069  data/ESF_BAIT/ESF_BAIT_Wren/images/19301F_bait...   1920    1080\n",
      "6070  data/ESF_BAIT/ESF_BAIT_Wren/images/19301F_bait...   1920    1080\n",
      "6071  data/ESF_BAIT/ESF_BAIT_Wren/images/19301F_bait...   1920    1080\n",
      "6072  data/ESF_BAIT/ESF_BAIT_Wren/images/19301F_bait...   1920    1080\n",
      "6073  data/ESF_BAIT/ESF_BAIT_Wren/images/19301F_bait...   1920    1080\n",
      "\n",
      "[6074 rows x 3 columns]\n"
     ]
    }
   ],
   "source": [
    "#save height and width to csv\n",
    "\n",
    "# Read the JSON data from a file\n",
    "json_file_path = \"/home/cara/oregon_critters/json/dataset_trail_180_adjxy.json\" \n",
    "with open(json_file_path, \"r\") as json_file:\n",
    "    json_data = json.load(json_file)\n",
    "\n",
    "# Extract image information\n",
    "image_info = []\n",
    "for image in json_data[\"images\"]:\n",
    "    image_info.append({\n",
    "        \"file_name\": image[\"file_name\"],\n",
    "        \"width\": image[\"width\"],\n",
    "        \"height\": image[\"height\"]\n",
    "    })\n",
    "\n",
    "# Create a DataFrame\n",
    "image_df = pd.DataFrame(image_info)\n",
    "\n",
    "# Display the DataFrame\n",
    "print(image_df)    \n",
    "\n",
    "# Save as CSV\n",
    "csv_file_path = \"/home/cara/oregon_critters/sampled_ds_trail_180_adjxy.csv\"\n",
    "image_df.to_csv(csv_file_path, index=False)\n"
   ]
  },
  {
   "cell_type": "code",
   "execution_count": null,
   "metadata": {},
   "outputs": [],
   "source": []
  }
 ],
 "metadata": {
  "kernelspec": {
   "display_name": "cv4e",
   "language": "python",
   "name": "python3"
  },
  "language_info": {
   "codemirror_mode": {
    "name": "ipython",
    "version": 3
   },
   "file_extension": ".py",
   "mimetype": "text/x-python",
   "name": "python",
   "nbconvert_exporter": "python",
   "pygments_lexer": "ipython3",
   "version": "3.9.17"
  },
  "orig_nbformat": 4
 },
 "nbformat": 4,
 "nbformat_minor": 2
}
